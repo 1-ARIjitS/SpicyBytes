{
 "cells": [
  {
   "cell_type": "code",
   "execution_count": null,
   "id": "f25354c1-8fe1-4970-8a5e-95c60ef6a0ed",
   "metadata": {},
   "outputs": [],
   "source": []
  },
  {
   "cell_type": "code",
   "execution_count": 8,
   "id": "a1cac0c9-c2bb-4c71-933c-ff1ac986ec7e",
   "metadata": {},
   "outputs": [],
   "source": [
    "load_items = \"\"\"LOAD CSV WITH HEADERS FROM 'file:///Groceries_dataset.csv' AS line\n",
    "MERGE (member:Member {number: toInteger(line.Member_number)})\n",
    "MERGE (item:Item {description: line.itemDescription})\"\"\""
   ]
  },
  {
   "cell_type": "code",
   "execution_count": 7,
   "id": "22919007-a3ef-48ee-b183-ab2ec2bab22b",
   "metadata": {},
   "outputs": [],
   "source": [
    "relationships = \"\"\"LOAD CSV WITH HEADERS FROM 'file:///Groceries_dataset.csv' AS line\n",
    "MATCH (member:Member {number: toInteger(line.Member_number)})\n",
    "MATCH (item:Item {description: line.itemDescription})\n",
    "MERGE (member)-[:PURCHASED {on: line.Date}]->(item)\"\"\""
   ]
  },
  {
   "cell_type": "code",
   "execution_count": null,
   "id": "141522d1-949f-429f-99a1-5e63a7a5f5ac",
   "metadata": {},
   "outputs": [],
   "source": []
  },
  {
   "cell_type": "code",
   "execution_count": null,
   "id": "20c7ba03-04d3-4828-9d66-14abf8ff9db0",
   "metadata": {},
   "outputs": [],
   "source": []
  },
  {
   "cell_type": "code",
   "execution_count": null,
   "id": "65548a1e-5395-44e9-b448-37ba3928e4af",
   "metadata": {},
   "outputs": [],
   "source": []
  },
  {
   "cell_type": "code",
   "execution_count": 1,
   "id": "48297117-8c8a-450d-b751-4cb240c4cfd1",
   "metadata": {},
   "outputs": [
    {
     "name": "stderr",
     "output_type": "stream",
     "text": [
      "/Users/pratistha99/.local/lib/python3.11/site-packages/pandas/core/arrays/masked.py:60: UserWarning: Pandas requires version '1.3.6' or newer of 'bottleneck' (version '1.3.5' currently installed).\n",
      "  from pandas.core import (\n"
     ]
    }
   ],
   "source": [
    "from neo4j import GraphDatabase"
   ]
  },
  {
   "cell_type": "code",
   "execution_count": 2,
   "id": "962fbdc6-5026-45c2-9412-0de341cf3df9",
   "metadata": {},
   "outputs": [],
   "source": [
    "uri = \"bolt://localhost:7687\"\n",
    "driver = GraphDatabase.driver(uri, auth=(\"neo4j\", \"12345678\"))"
   ]
  },
  {
   "cell_type": "code",
   "execution_count": 3,
   "id": "c096fa53-8774-4dae-8cbf-c7537e183ea9",
   "metadata": {},
   "outputs": [],
   "source": [
    "\n",
    "def get_recommendations(tx, member_number):\n",
    "    query = (\n",
    "        \"\"\"\n",
    "        MATCH (targetMember:Member {number: $memberNumber})-[:PURCHASED]->(item:Item)\n",
    "        WITH targetMember, item\n",
    "        MATCH (item)<-[p:PURCHASED]-(similarMember:Member)-[p2:PURCHASED]->(recommendation:Item)\n",
    "        WHERE NOT (targetMember)-[:PURCHASED]->(recommendation) AND targetMember <> similarMember\n",
    "        WITH recommendation, COUNT(p2) AS purchases, COLLECT(similarMember) AS similarMembers\n",
    "        ORDER BY purchases DESC\n",
    "        WITH recommendation, purchases, similarMembers\n",
    "        WHERE SIZE(similarMembers) > 1\n",
    "        RETURN recommendation.description AS RecommendedItem, purchases, similarMembers\n",
    "        LIMIT 5\n",
    "        \"\"\"\n",
    "    )\n",
    "    results = tx.run(query, memberNumber=member_number)\n",
    "    return [(record[\"RecommendedItem\"], record[\"purchases\"]) for record in results]\n",
    "\n"
   ]
  },
  {
   "cell_type": "code",
   "execution_count": 4,
   "id": "3f41e1e4-1b94-424e-b140-40157c7b5f47",
   "metadata": {},
   "outputs": [
    {
     "name": "stderr",
     "output_type": "stream",
     "text": [
      "/var/folders/22/q3sbq4cn5qsf37t1lqjztgvm0000gn/T/ipykernel_5713/3501515833.py:2: DeprecationWarning: read_transaction has been renamed to execute_read\n",
      "  recommendations = session.read_transaction(get_recommendations, 1808)\n"
     ]
    },
    {
     "name": "stdout",
     "output_type": "stream",
     "text": [
      "Item: other vegetables, Purchases: 4037\n",
      "Item: soda, Purchases: 3063\n",
      "Item: yogurt, Purchases: 2852\n",
      "Item: root vegetables, Purchases: 2229\n",
      "Item: sausage, Purchases: 2044\n"
     ]
    }
   ],
   "source": [
    "\n",
    "with driver.session() as session:\n",
    "    recommendations = session.read_transaction(get_recommendations, 1808)\n",
    "    for item, purchases in recommendations:\n",
    "        print(f\"Item: {item}, Purchases: {purchases}\")\n",
    "\n",
    "driver.close()\n"
   ]
  },
  {
   "cell_type": "code",
   "execution_count": null,
   "id": "7ca06028-99a3-4603-9bb4-80d554146abb",
   "metadata": {},
   "outputs": [],
   "source": []
  },
  {
   "cell_type": "code",
   "execution_count": null,
   "id": "0c0cdc40-44da-42d2-a6dd-1bd5029443e0",
   "metadata": {},
   "outputs": [],
   "source": []
  }
 ],
 "metadata": {
  "kernelspec": {
   "display_name": "Python 3 (ipykernel)",
   "language": "python",
   "name": "python3"
  },
  "language_info": {
   "codemirror_mode": {
    "name": "ipython",
    "version": 3
   },
   "file_extension": ".py",
   "mimetype": "text/x-python",
   "name": "python",
   "nbconvert_exporter": "python",
   "pygments_lexer": "ipython3",
   "version": "3.11.5"
  }
 },
 "nbformat": 4,
 "nbformat_minor": 5
}
